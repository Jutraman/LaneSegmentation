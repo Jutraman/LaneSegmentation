{
 "cells": [
  {
   "cell_type": "code",
   "execution_count": null,
   "metadata": {
    "collapsed": true
   },
   "outputs": [],
   "source": [
    "import cv2\n",
    "import json\n",
    "import numpy as np"
   ]
  },
  {
   "cell_type": "code",
   "execution_count": null,
   "outputs": [],
   "source": [
    "# poly2mask\n",
    "ann_path = '../Images/171206_054430023_Camera_5.json'\n",
    "with open(ann_path, 'r') as f:\n",
    "    ann = json.load(f)\n",
    "\n",
    "h, w = ann['imageHeight'], ann['imageWidth']\n",
    "ann_img = np.zeros((h, w), dtype=np.uint8)\n",
    "polys = []\n",
    "for poly_ann in ann['shapes']:\n",
    "    if poly_ann['shape_type'] != 'polygon':\n",
    "        continue\n",
    "    poly = np.array(poly_ann['points']).astype(np.int64)\n",
    "    polys.append(poly)\n",
    "cv2.fillPoly(ann_img, polys, 255)\n",
    "cv2.imwrite('../Images/171206_054430023_Camera_5.png', ann_img)"
   ],
   "metadata": {
    "collapsed": false,
    "pycharm": {
     "name": "#%%\n"
    }
   }
  },
  {
   "cell_type": "code",
   "execution_count": null,
   "outputs": [],
   "source": [
    "# transform\n",
    "img = cv2.imread('../Images/cat.png')\n",
    "h, w = img.shape[:2]\n",
    "\n",
    "# rigid\n",
    "theta = 30 / 180 * np.pi\n",
    "tx = 100\n",
    "ty = -50\n",
    "rigid_mat = np.array([[np.cos(theta), -np.sin(theta), tx],\n",
    "                      [np.sin(theta),  np.cos(theta), ty]], dtype=np.float32)\n",
    "rigid_img = cv2.warpAffine(img, rigid_mat, (w, h))\n",
    "show_img = np.concatenate([img, rigid_img], axis=1)\n",
    "cv2.imwrite('../Images/rigid.png', show_img)\n",
    "\n",
    "# similar\n",
    "theta = 30 / 180 * np.pi\n",
    "tx = 50\n",
    "ty = -150\n",
    "s = 1.5\n",
    "similar_mat = np.array([[s * np.cos(theta), -s * np.sin(theta), tx],\n",
    "                        [s * np.sin(theta),  s * np.cos(theta), ty]], dtype=np.float32)\n",
    "similar_img = cv2.warpAffine(img, similar_mat, (w, h))\n",
    "show_img = np.concatenate([img, similar_img], axis=1)\n",
    "cv2.imwrite('../Images/similar.png', show_img)\n",
    "\n",
    "# affine\n",
    "a, b, c, d = 1.1, 0.9, 0.1, 1.0\n",
    "tx = -100\n",
    "ty = 30\n",
    "affine_mat = np.array([[a, b, tx],\n",
    "                       [c, d, ty]], dtype=np.float32)\n",
    "affine_img = cv2.warpAffine(img, affine_mat, (w, h))\n",
    "show_img = np.concatenate([img, affine_img], axis=1)\n",
    "cv2.imwrite('../Images/affine.png', show_img)\n",
    "\n",
    "# perspective\n",
    "a, b, c, d = 1.0, 0.0, 0.0, 1.0\n",
    "tx = 50\n",
    "ty = 0\n",
    "v1 = 0\n",
    "v2 = 1e-3\n",
    "persp_mat = np.array([[ a,  b, tx],\n",
    "                      [ c,  d, ty],\n",
    "                      [v1, v2,  1]], dtype=np.float32)\n",
    "persp_img = cv2.warpPerspective(img, persp_mat, (w, h))\n",
    "show_img = np.concatenate([img, persp_img], axis=1)\n",
    "cv2.imwrite('../Images/persp.png', show_img)"
   ],
   "metadata": {
    "collapsed": false,
    "pycharm": {
     "name": "#%%\n"
    }
   }
  },
  {
   "cell_type": "code",
   "execution_count": null,
   "outputs": [],
   "source": [
    "# color\n",
    "img = cv2.imread('../Images/cat.png')\n",
    "\n",
    "print('contrast / brightness')\n",
    "alpha = 1.0\n",
    "beta = 0.0\n",
    "while True:\n",
    "    new_img = (img * alpha + beta)\n",
    "    new_img = np.clip(new_img, 0, 255).astype(np.uint8)\n",
    "    cv2.imshow('show', new_img)\n",
    "    key = cv2.waitKey(1)\n",
    "    if key != -1:\n",
    "        print(key)\n",
    "    if key == 97: # left\n",
    "        beta -= 2\n",
    "    if key == 100: # right\n",
    "        beta += 2\n",
    "    if key == 115: # down\n",
    "        alpha -= 0.05\n",
    "    if key == 119: # up\n",
    "        alpha += 0.05\n",
    "    if key == 27: # esc\n",
    "        break\n",
    "\n",
    "print('hue / saturation / value(brightness)')\n",
    "img_hsv = cv2.cvtColor(img, cv2.COLOR_BGR2HSV)\n",
    "h = 0.0\n",
    "s = 0.0\n",
    "v = 0.0\n",
    "while True:\n",
    "    new_img_hsv = img_hsv + np.array([h, s, v]).reshape(1, 1, 3)\n",
    "    new_img_hsv = np.clip(new_img_hsv, 0, 255).astype(np.uint8)\n",
    "    new_img = cv2.cvtColor(new_img_hsv, cv2.COLOR_HSV2BGR)\n",
    "    cv2.imshow('show', new_img)\n",
    "    key = cv2.waitKey(1)\n",
    "    if key == 97: # left\n",
    "        h -= 5\n",
    "    if key == 100: # right\n",
    "        h += 5\n",
    "    if key == 115: # down\n",
    "        s -= 5\n",
    "    if key == 119: # up\n",
    "        s += 5\n",
    "    if key == 113: # q\n",
    "        v -= 5\n",
    "    if key == 101: # e\n",
    "        v += 5\n",
    "    if key == 27: # esc\n",
    "        break\n",
    "\n",
    "print('equalization')\n",
    "b = cv2.equalizeHist(img[..., 0])\n",
    "g = cv2.equalizeHist(img[..., 1])\n",
    "r = cv2.equalizeHist(img[..., 2])\n",
    "new_img = np.stack([b, g, r], axis=-1)\n",
    "cv2.imshow('show', new_img)\n",
    "key = cv2.waitKey(0)"
   ],
   "metadata": {
    "collapsed": false,
    "pycharm": {
     "name": "#%%\n"
    }
   }
  },
  {
   "cell_type": "code",
   "execution_count": null,
   "outputs": [],
   "source": [
    "img = cv2.imread('../Images/cat.png')\n",
    "\n",
    "print('blur')\n",
    "new_img = cv2.blur(img, (5, 5))\n",
    "show_img = np.concatenate([img, new_img], axis=1)\n",
    "cv2.imshow('show', show_img)\n",
    "cv2.waitKey(0)\n",
    "\n",
    "print('sharpen')\n",
    "new_img = cv2.blur(img, (5, 5))\n",
    "new_img = cv2.addWeighted(img, 1.5, new_img, -0.5, 0)\n",
    "show_img = np.concatenate([img, new_img], axis=1)\n",
    "cv2.imshow('show', show_img)\n",
    "cv2.waitKey(0)\n",
    "\n",
    "print('gaussian noise')\n",
    "mean = 0\n",
    "std = 50\n",
    "noise = np.random.randn(*img.shape) * std\n",
    "new_img = np.clip((img.astype(np.float32) + noise), 0, 255).astype(np.uint8)\n",
    "show_img = np.concatenate([img, new_img], axis=1)\n",
    "cv2.imshow('show', show_img)\n",
    "cv2.waitKey(0)\n",
    "\n",
    "print('poisson noise')\n",
    "crop_img = img[100:200, 100:200]\n",
    "lam = 100.0\n",
    "noise = np.random.poisson(lam=lam, size=crop_img.shape) - lam\n",
    "new_img = np.clip(crop_img.astype(np.float32) + noise, 0, 255).astype(np.uint8)\n",
    "show_img = np.concatenate([crop_img, new_img], axis=1)\n",
    "show_img = cv2.resize(show_img, (1000, 500))\n",
    "cv2.imshow('show', show_img)\n",
    "cv2.waitKey(0)\n",
    "\n",
    "print('salt pepper noise')\n",
    "rate = 0.02\n",
    "noise = np.random.choice((0, 256, -256), (img.shape[0], img.shape[1]), p=(1-rate, rate/2, rate/2))\n",
    "noise = np.expand_dims(noise, axis=-1)\n",
    "new_img = np.clip(img.astype(np.float32) + noise, 0, 255).astype(np.uint8)\n",
    "show_img = np.concatenate([img, new_img], axis=1)\n",
    "cv2.imshow('show', show_img)\n",
    "cv2.waitKey(0)"
   ],
   "metadata": {
    "collapsed": false,
    "pycharm": {
     "name": "#%%\n"
    }
   }
  }
 ],
 "metadata": {
  "kernelspec": {
   "display_name": "Python 3",
   "language": "python",
   "name": "python3"
  },
  "language_info": {
   "codemirror_mode": {
    "name": "ipython",
    "version": 2
   },
   "file_extension": ".py",
   "mimetype": "text/x-python",
   "name": "python",
   "nbconvert_exporter": "python",
   "pygments_lexer": "ipython2",
   "version": "2.7.6"
  }
 },
 "nbformat": 4,
 "nbformat_minor": 0
}